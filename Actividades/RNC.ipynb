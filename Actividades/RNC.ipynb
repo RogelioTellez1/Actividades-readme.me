{
  "nbformat": 4,
  "nbformat_minor": 0,
  "metadata": {
    "colab": {
      "provenance": []
    },
    "kernelspec": {
      "name": "python3",
      "display_name": "Python 3"
    },
    "language_info": {
      "name": "python"
    }
  },
  "cells": [
    {
      "cell_type": "markdown",
      "source": [
        "Actividad 6: Red Neuronal Convolusional\n",
        "\n",
        "Alumno: Rogelio G. Tellez Martinez\n",
        "\n",
        "Matricula: 2007528 Hora:N1 Grupo:007"
      ],
      "metadata": {
        "id": "2HIW5vDHss_X"
      }
    },
    {
      "cell_type": "code",
      "execution_count": 3,
      "metadata": {
        "colab": {
          "base_uri": "https://localhost:8080/",
          "height": 594
        },
        "id": "Ntd64eyvrOJS",
        "outputId": "91d3b3c9-1654-452b-db27-388e18a0db7c"
      },
      "outputs": [
        {
          "output_type": "stream",
          "name": "stdout",
          "text": [
            "Epoch 1/5\n",
            "1875/1875 [==============================] - 59s 31ms/step - loss: 0.1328 - accuracy: 0.9588 - val_loss: 0.0507 - val_accuracy: 0.9836\n",
            "Epoch 2/5\n",
            "1875/1875 [==============================] - 51s 27ms/step - loss: 0.0445 - accuracy: 0.9866 - val_loss: 0.0351 - val_accuracy: 0.9893\n",
            "Epoch 3/5\n",
            "1875/1875 [==============================] - 53s 28ms/step - loss: 0.0305 - accuracy: 0.9906 - val_loss: 0.0318 - val_accuracy: 0.9893\n",
            "Epoch 4/5\n",
            "1875/1875 [==============================] - 54s 29ms/step - loss: 0.0219 - accuracy: 0.9929 - val_loss: 0.0287 - val_accuracy: 0.9902\n",
            "Epoch 5/5\n",
            "1875/1875 [==============================] - 53s 28ms/step - loss: 0.0167 - accuracy: 0.9946 - val_loss: 0.0358 - val_accuracy: 0.9897\n",
            "313/313 [==============================] - 2s 8ms/step - loss: 0.0358 - accuracy: 0.9897\n",
            "Exactitud del modelo en datos de prueba: 0.9897000193595886\n",
            "1/1 [==============================] - 0s 69ms/step\n",
            "1/1 [==============================] - 0s 20ms/step\n",
            "1/1 [==============================] - 0s 19ms/step\n",
            "1/1 [==============================] - 0s 33ms/step\n",
            "1/1 [==============================] - 0s 21ms/step\n"
          ]
        },
        {
          "output_type": "display_data",
          "data": {
            "text/plain": [
              "<Figure size 1500x500 with 5 Axes>"
            ],
            "image/png": "[encoded data removed]"
          },
          "metadata": {}
        }
      ],
      "source": [
        "import numpy as np\n",
        "import matplotlib.pyplot as plt\n",
        "import tensorflow as tf\n",
        "from tensorflow.keras.datasets import mnist\n",
        "from tensorflow.keras.models import Sequential\n",
        "from tensorflow.keras.layers import Conv2D, MaxPooling2D, Flatten, Dense\n",
        "\n",
        "# Carga al conjunto de datos MNIST\n",
        "(train_data, train_labels), (test_data, test_labels) = mnist.load_data()\n",
        "\n",
        "# Preprocesamiento de los datos\n",
        "train_data = train_data.reshape((train_data.shape[0], 28, 28, 1)).astype('float32') / 255\n",
        "test_data = test_data.reshape((test_data.shape[0], 28, 28, 1)).astype('float32') / 255\n",
        "\n",
        "# Definir la estructura de la red neuronal convolucional\n",
        "model = Sequential([\n",
        "    Conv2D(32, (3, 3), activation='relu', input_shape=(28, 28, 1)),\n",
        "    MaxPooling2D((2, 2)),\n",
        "    Conv2D(64, (3, 3), activation='relu'),\n",
        "    MaxPooling2D((2, 2)),\n",
        "    Flatten(),\n",
        "    Dense(128, activation='relu'),\n",
        "    Dense(10, activation='softmax')\n",
        "])\n",
        "\n",
        "model.compile(optimizer='adam',\n",
        "              loss='sparse_categorical_crossentropy',\n",
        "              metrics=['accuracy'])\n",
        "\n",
        "# Entrenamiento del modelo\n",
        "history = model.fit(train_data, train_labels, epochs=5, validation_data=(test_data, test_labels))\n",
        "\n",
        "# Evaluar el modelo con los datos de prueba\n",
        "test_loss, test_accuracy = model.evaluate(test_data, test_labels)\n",
        "print(\"Exactitud del modelo en datos de prueba:\", test_accuracy)\n",
        "# Realizar predicciones y mostrar las imágenes\n",
        "num_predicciones = 5\n",
        "indices_aleatorios = np.random.choice(test_data.shape[0], num_predicciones, replace=False)\n",
        "plt.figure(figsize=(15, 5))\n",
        "for i, idx in enumerate(indices_aleatorios):\n",
        "    plt.subplot(1, num_predicciones, i + 1)\n",
        "    plt.imshow(test_data[idx].reshape(28, 28), cmap='gray')\n",
        "    plt.axis('off')\n",
        "    # Realizar la predicción\n",
        "    prediction = model.predict(np.expand_dims(test_data[idx], axis=0))\n",
        "    predicted_label = np.argmax(prediction)\n",
        "    actual_label = test_labels[idx]\n",
        "    plt.title(f\"Predicción: {predicted_label}\\nValor real: {actual_label}\")\n",
        "\n",
        "plt.show()"
      ]
    },
    {
      "cell_type": "markdown",
      "source": [],
      "metadata": {
        "id": "SmwUWQE1tAGm"
      }
    }
  ]
}