{
  "nbformat": 4,
  "nbformat_minor": 0,
  "metadata": {
    "colab": {
      "provenance": []
    },
    "kernelspec": {
      "name": "python3",
      "display_name": "Python 3"
    },
    "language_info": {
      "name": "python"
    }
  },
  "cells": [
    {
      "cell_type": "markdown",
      "source": [
        "ACTIVIDAD FUNDAMENTAL 2 DESARROLLO DE ALGORTIMOS EN PYTHON\n",
        "\n",
        "ROGELIO GUADALUPE TELLEZ MARTINEZ 2007528 GRUPO: 007 HORA:N1 LMV\n",
        "\n",
        "---\n",
        "\n"
      ],
      "metadata": {
        "id": "GSwk73EBsfIZ"
      }
    },
    {
      "cell_type": "markdown",
      "source": [
        "1. Desarrolla un algoritmo que le pida al usuario por su nombre y que lo salude por su nombre excepto si se llama \"Ana\", \"Juan\" o \"Pedro\"."
      ],
      "metadata": {
        "id": "6AbNc0Dc1Exy"
      }
    },
    {
      "cell_type": "code",
      "execution_count": 2,
      "metadata": {
        "colab": {
          "base_uri": "https://localhost:8080/"
        },
        "id": "gvBtsX_PsEbk",
        "outputId": "04326867-1ba4-4977-a939-b7ce8cb91408"
      },
      "outputs": [
        {
          "output_type": "stream",
          "name": "stdout",
          "text": [
            "Nombre:ROGELIO\n",
            "Hola que tal,ROGELIO!\n"
          ]
        }
      ],
      "source": [
        "Name=input(\"Nombre:\")\n",
        "if Name == 'Juan' or Name == 'juan' or Name == 'JUAN' or Name == 'Pedro' or Name == 'pedro' or Name =='PEDRO' or Name == 'Ana' or Name == 'ana' or Name == 'ANA':\n",
        "  print(\"NO HAY SALUDO\")\n",
        "else:\n",
        "  print(\"Hola que tal,{}!\".format(Name))"
      ]
    },
    {
      "cell_type": "markdown",
      "source": [],
      "metadata": {
        "id": "eknfFjKjsbKq"
      }
    },
    {
      "cell_type": "code",
      "source": [
        "Name=input(\"Nombre:\")\n",
        "if Name == 'Juan' or Name == 'juan' or Name == 'JUAN' or Name == 'Pedro' or Name == 'pedro' or Name =='PEDRO' or Name == 'Ana' or Name == 'ana' or Name == 'ANA':\n",
        "  print(\"NO HAY SALUDO\")\n",
        "else:\n",
        "  print(\"Hola que tal,{}!\".format(Name))"
      ],
      "metadata": {
        "colab": {
          "base_uri": "https://localhost:8080/"
        },
        "id": "Rm-wh1P2sLnG",
        "outputId": "342b7853-e7d7-4f56-a499-c76bf369b7da"
      },
      "execution_count": 3,
      "outputs": [
        {
          "output_type": "stream",
          "name": "stdout",
          "text": [
            "Nombre:ANA\n",
            "NO HAY SALUDO\n"
          ]
        }
      ]
    },
    {
      "cell_type": "markdown",
      "source": [
        "2. Desarrolla un algoritmo que le pida al usuario una lista de N elementos y como resultado invierta el sentido de la lista"
      ],
      "metadata": {
        "id": "r_nc4V1Z1HSR"
      }
    },
    {
      "cell_type": "code",
      "source": [
        "N=input(\"Pon los articulos de la lista separados por espacios:\")\n",
        "NT = N[::-1]\n",
        "print(NT)"
      ],
      "metadata": {
        "colab": {
          "base_uri": "https://localhost:8080/"
        },
        "id": "Z7qqj_SuwCFR",
        "outputId": "a1907056-33fd-49e4-c360-e6008dd1a916"
      },
      "execution_count": 10,
      "outputs": [
        {
          "output_type": "stream",
          "name": "stdout",
          "text": [
            "Pon los articulos de la lista separados por espacios:leche cornflakes papel de baño\n",
            "oñab ed lepap sekalfnroc ehcel\n"
          ]
        }
      ]
    },
    {
      "cell_type": "markdown",
      "source": [
        "3. Desarrolla un algoritmo que le pregunte al usuario cuántos números de la serie de Fibonacci quiere generar y que al final los imprima."
      ],
      "metadata": {
        "id": "Pomyis4e1Maq"
      }
    },
    {
      "cell_type": "code",
      "source": [
        "print(\"Serie de Fibonacci\")\n",
        "\n",
        "i=int(input(\"\\nTotal de numeros en la serie:\"))\n",
        "def fibonacci(i):\n",
        " if i < 2:\n",
        "  return i\n",
        " else:\n",
        "  return fibonacci(i-1) + fibonacci(i-2)\n",
        "for n in range(i):\n",
        " print(fibonacci(n))"
      ],
      "metadata": {
        "colab": {
          "base_uri": "https://localhost:8080/"
        },
        "id": "v_GwX_eqwK95",
        "outputId": "3be052df-1ea8-46e3-a40a-a9970a7c39a1"
      },
      "execution_count": 8,
      "outputs": [
        {
          "output_type": "stream",
          "name": "stdout",
          "text": [
            "Serie de Fibonacci\n",
            "\n",
            "Total de numeros en la serie:14\n",
            "0\n",
            "1\n",
            "1\n",
            "2\n",
            "3\n",
            "5\n",
            "8\n",
            "13\n",
            "21\n",
            "34\n",
            "55\n",
            "89\n",
            "144\n",
            "233\n"
          ]
        }
      ]
    },
    {
      "cell_type": "markdown",
      "source": [
        "4. Juego de adivinar el número: Crea un programa que genere un número aleatorio entre 1 y 100, y luego le pida al usuario que adivine el número. El programa debe proporcionar pistas al usuario si el número es mayor o menor que el número objetivo, y seguir solicitando un nuevo intento hasta que el usuario adivine correctamente."
      ],
      "metadata": {
        "id": "8pE7aG8l1djA"
      }
    },
    {
      "cell_type": "code",
      "source": [
        "import random\n",
        "\n",
        "def guess_the_number():\n",
        "    target_number = random.randint(1, 100)\n",
        "\n",
        "    print(\"Adivina el numero!\")\n",
        "    print(\"Estoy pensando en un número entre 1 y 100..\")\n",
        "\n",
        "    attempts = 0\n",
        "\n",
        "    while True:\n",
        "        try:\n",
        "            user_guess = int(input(\"Adivina: \"))\n",
        "            attempts += 1\n",
        "\n",
        "            if user_guess < 1 or user_guess > 100:\n",
        "                print(\"Por favor introduce un número entre 1 y 100.\")\n",
        "                continue\n",
        "\n",
        "            if user_guess < target_number:\n",
        "                print(\"¡Demasiado bajo! Intentalo de nuevo.\")\n",
        "            elif user_guess > target_number:\n",
        "                print(\"Muy alto! Intentalo de nuevo.\")\n",
        "            else:\n",
        "                print(f\"¡Felicidades! Has adivinado el número {target_number} en {attempts} intentos!\")\n",
        "                break\n",
        "        except ValueError:\n",
        "            print(\"Entrada inválida. por favor ingrese un número valido.\")\n",
        "\n",
        "if __name__ == \"__main__\":\n",
        "    guess_the_number()"
      ],
      "metadata": {
        "colab": {
          "base_uri": "https://localhost:8080/"
        },
        "id": "E1WAn5St2RGa",
        "outputId": "60e0d804-fc8c-40db-cb93-f01f8531902f"
      },
      "execution_count": 17,
      "outputs": [
        {
          "output_type": "stream",
          "name": "stdout",
          "text": [
            "Adivina el numero!\n",
            "Estoy pensando en un número entre 1 y 100..\n",
            "Adivina: 23\n",
            "¡Demasiado bajo! Intentalo de nuevo.\n",
            "Adivina: 57\n",
            "Muy alto! Intentalo de nuevo.\n",
            "Adivina: e\n",
            "Entrada inválida. por favor ingrese un número valido.\n",
            "Adivina: 45\n",
            "¡Demasiado bajo! Intentalo de nuevo.\n",
            "Adivina: 52\n",
            "Muy alto! Intentalo de nuevo.\n",
            "Adivina: 48\n",
            "¡Demasiado bajo! Intentalo de nuevo.\n",
            "Adivina: 50\n",
            "¡Felicidades! Has adivinado el número 50 en 6 intentos!\n"
          ]
        }
      ]
    },
    {
      "cell_type": "markdown",
      "source": [
        "5.Ejercicio de cálculo de números primos en un rango dado: Escribe un programa que solicite al usuario un rango de números y muestre todos los números primos dentro de ese rango."
      ],
      "metadata": {
        "id": "UBbEsJlR5ajk"
      }
    },
    {
      "cell_type": "code",
      "source": [
        "def encontrar_primos(Primer, Ultimo):\n",
        "    primos = []\n",
        "    for n in range(int(Primer), int(Ultimo) + 1):\n",
        "        contador = 0\n",
        "        for i in range(1, n + 1):\n",
        "            if n % i == 0:\n",
        "                contador += 1\n",
        "        if contador == 2:\n",
        "            primos.append(n)\n",
        "    return primos\n",
        "\n",
        "numA = float(input(\"Primer numero:\"))\n",
        "numB = float(input(\"Ultimo numero:\"))\n",
        "print(encontrar_primos(numA, numB))"
      ],
      "metadata": {
        "colab": {
          "base_uri": "https://localhost:8080/"
        },
        "id": "chW0lDHX5hY1",
        "outputId": "e2b56a58-511d-4895-ee23-3d24eb3f5729"
      },
      "execution_count": 56,
      "outputs": [
        {
          "output_type": "stream",
          "name": "stdout",
          "text": [
            "Primer numero:5\n",
            "Ultimo numero:13\n",
            "[5, 7, 11, 13]\n"
          ]
        }
      ]
    },
    {
      "cell_type": "markdown",
      "source": [
        "6. Ejercicio de implementación de una calculadora básica utilizando funciones: Escribe un programa que solicite al usuario dos números y realice operaciones básicas como suma, resta, multiplicación y división utilizando funciones separadas para cada operación.\n"
      ],
      "metadata": {
        "id": "RLpM9F8JBJUB"
      }
    },
    {
      "cell_type": "code",
      "source": [
        "import tokenize\n",
        "num1 = float (input(\"Introduce un numero:\"))\n",
        "num2 = float(input(\"Introduce un numero:\"))\n",
        "operador = input(\"Introduce la operacion(suma, resta, multiplicacion, division):\")\n",
        "\n",
        "resultado = 0\n",
        "if operador == 'suma':\n",
        "  resultado = num1 + num2\n",
        "elif operador == 'resta':\n",
        "  resultado = num1 - num2\n",
        "elif operador == 'multiplicacion':\n",
        "  resultado = num1*num2\n",
        "elif operador == 'division':\n",
        "  resultado = num1 / num2\n",
        "print(\"el resultado es igual\", resultado)"
      ],
      "metadata": {
        "colab": {
          "base_uri": "https://localhost:8080/"
        },
        "id": "lV3_W4ZcLQqZ",
        "outputId": "939a87b5-5c8f-46ef-bd66-0cd7ea1c14d0"
      },
      "execution_count": 43,
      "outputs": [
        {
          "output_type": "stream",
          "name": "stdout",
          "text": [
            "Introduce un numero:100\n",
            "Introduce un numero:250\n",
            "Introduce la operacion(suma, resta, multiplicacion, division):division\n",
            "el resultado es igual 0.4\n"
          ]
        }
      ]
    }
  ]
}